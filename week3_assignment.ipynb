{
 "cells": [
  {
   "cell_type": "code",
   "execution_count": 10,
   "id": "07891a2a",
   "metadata": {},
   "outputs": [],
   "source": [
    "import pandas as pd\n",
    "import numpy as np\n",
    "import matplotlib.pyplot as plt \n",
    "import seaborn as sns"
   ]
  },
  {
   "cell_type": "markdown",
   "id": "7f275423",
   "metadata": {},
   "source": [
    "# Create a numpy array (first) with 5 x 5 size and all elements are 0 in that.\n",
    "\n"
   ]
  },
  {
   "cell_type": "code",
   "execution_count": 4,
   "id": "b98ecd59",
   "metadata": {},
   "outputs": [],
   "source": [
    "a = np.zeros((5,5))"
   ]
  },
  {
   "cell_type": "code",
   "execution_count": 5,
   "id": "789c55ff",
   "metadata": {},
   "outputs": [
    {
     "data": {
      "text/plain": [
       "array([[0., 0., 0., 0., 0.],\n",
       "       [0., 0., 0., 0., 0.],\n",
       "       [0., 0., 0., 0., 0.],\n",
       "       [0., 0., 0., 0., 0.],\n",
       "       [0., 0., 0., 0., 0.]])"
      ]
     },
     "execution_count": 5,
     "metadata": {},
     "output_type": "execute_result"
    }
   ],
   "source": [
    "a"
   ]
  },
  {
   "cell_type": "markdown",
   "id": "3e97ff36",
   "metadata": {},
   "source": [
    "# Create a numpy array (second) with 5 x 5 and all elements are 1 in that.\n",
    "\n"
   ]
  },
  {
   "cell_type": "code",
   "execution_count": 6,
   "id": "59d06445",
   "metadata": {},
   "outputs": [
    {
     "data": {
      "text/plain": [
       "array([[1., 1., 1., 1., 1.],\n",
       "       [1., 1., 1., 1., 1.],\n",
       "       [1., 1., 1., 1., 1.],\n",
       "       [1., 1., 1., 1., 1.],\n",
       "       [1., 1., 1., 1., 1.]])"
      ]
     },
     "execution_count": 6,
     "metadata": {},
     "output_type": "execute_result"
    }
   ],
   "source": [
    "b = np.ones((5,5))\n",
    "b"
   ]
  },
  {
   "cell_type": "markdown",
   "id": "1f14ac1e",
   "metadata": {},
   "source": [
    "# Combine the arrays first and second vertically, the final array size should be 10 x 5"
   ]
  },
  {
   "cell_type": "code",
   "execution_count": 8,
   "id": "d2089912",
   "metadata": {},
   "outputs": [],
   "source": [
    "c = np.vstack((a,b))"
   ]
  },
  {
   "cell_type": "code",
   "execution_count": 9,
   "id": "b4ecd50d",
   "metadata": {},
   "outputs": [
    {
     "data": {
      "text/plain": [
       "array([[0., 0., 0., 0., 0.],\n",
       "       [0., 0., 0., 0., 0.],\n",
       "       [0., 0., 0., 0., 0.],\n",
       "       [0., 0., 0., 0., 0.],\n",
       "       [0., 0., 0., 0., 0.],\n",
       "       [1., 1., 1., 1., 1.],\n",
       "       [1., 1., 1., 1., 1.],\n",
       "       [1., 1., 1., 1., 1.],\n",
       "       [1., 1., 1., 1., 1.],\n",
       "       [1., 1., 1., 1., 1.]])"
      ]
     },
     "execution_count": 9,
     "metadata": {},
     "output_type": "execute_result"
    }
   ],
   "source": [
    "c"
   ]
  },
  {
   "cell_type": "markdown",
   "id": "708e6978",
   "metadata": {},
   "source": [
    "# 4.Read the given data set"
   ]
  },
  {
   "cell_type": "code",
   "execution_count": 12,
   "id": "9a311cda",
   "metadata": {},
   "outputs": [],
   "source": [
    "data = pd.read_csv('diabetes_model.csv')"
   ]
  },
  {
   "cell_type": "code",
   "execution_count": 13,
   "id": "f984e231",
   "metadata": {},
   "outputs": [
    {
     "data": {
      "text/html": [
       "<div>\n",
       "<style scoped>\n",
       "    .dataframe tbody tr th:only-of-type {\n",
       "        vertical-align: middle;\n",
       "    }\n",
       "\n",
       "    .dataframe tbody tr th {\n",
       "        vertical-align: top;\n",
       "    }\n",
       "\n",
       "    .dataframe thead th {\n",
       "        text-align: right;\n",
       "    }\n",
       "</style>\n",
       "<table border=\"1\" class=\"dataframe\">\n",
       "  <thead>\n",
       "    <tr style=\"text-align: right;\">\n",
       "      <th></th>\n",
       "      <th>Pregnancies</th>\n",
       "      <th>Glucose</th>\n",
       "      <th>BloodPressure</th>\n",
       "      <th>SkinThickness</th>\n",
       "      <th>Insulin</th>\n",
       "      <th>BMI</th>\n",
       "      <th>DiabetesPedigreeFunction</th>\n",
       "      <th>Age</th>\n",
       "      <th>Outcome</th>\n",
       "    </tr>\n",
       "  </thead>\n",
       "  <tbody>\n",
       "    <tr>\n",
       "      <th>0</th>\n",
       "      <td>5</td>\n",
       "      <td>77</td>\n",
       "      <td>82</td>\n",
       "      <td>41</td>\n",
       "      <td>42</td>\n",
       "      <td>35.8</td>\n",
       "      <td>0.156</td>\n",
       "      <td>35</td>\n",
       "      <td>0</td>\n",
       "    </tr>\n",
       "    <tr>\n",
       "      <th>1</th>\n",
       "      <td>9</td>\n",
       "      <td>122</td>\n",
       "      <td>56</td>\n",
       "      <td>0</td>\n",
       "      <td>0</td>\n",
       "      <td>33.3</td>\n",
       "      <td>1.114</td>\n",
       "      <td>33</td>\n",
       "      <td>1</td>\n",
       "    </tr>\n",
       "    <tr>\n",
       "      <th>2</th>\n",
       "      <td>0</td>\n",
       "      <td>113</td>\n",
       "      <td>76</td>\n",
       "      <td>0</td>\n",
       "      <td>0</td>\n",
       "      <td>33.3</td>\n",
       "      <td>0.278</td>\n",
       "      <td>23</td>\n",
       "      <td>1</td>\n",
       "    </tr>\n",
       "    <tr>\n",
       "      <th>3</th>\n",
       "      <td>1</td>\n",
       "      <td>139</td>\n",
       "      <td>62</td>\n",
       "      <td>41</td>\n",
       "      <td>480</td>\n",
       "      <td>40.7</td>\n",
       "      <td>0.536</td>\n",
       "      <td>21</td>\n",
       "      <td>0</td>\n",
       "    </tr>\n",
       "    <tr>\n",
       "      <th>4</th>\n",
       "      <td>10</td>\n",
       "      <td>161</td>\n",
       "      <td>68</td>\n",
       "      <td>23</td>\n",
       "      <td>132</td>\n",
       "      <td>25.5</td>\n",
       "      <td>0.326</td>\n",
       "      <td>47</td>\n",
       "      <td>1</td>\n",
       "    </tr>\n",
       "    <tr>\n",
       "      <th>...</th>\n",
       "      <td>...</td>\n",
       "      <td>...</td>\n",
       "      <td>...</td>\n",
       "      <td>...</td>\n",
       "      <td>...</td>\n",
       "      <td>...</td>\n",
       "      <td>...</td>\n",
       "      <td>...</td>\n",
       "      <td>...</td>\n",
       "    </tr>\n",
       "    <tr>\n",
       "      <th>609</th>\n",
       "      <td>4</td>\n",
       "      <td>114</td>\n",
       "      <td>64</td>\n",
       "      <td>0</td>\n",
       "      <td>0</td>\n",
       "      <td>28.9</td>\n",
       "      <td>0.126</td>\n",
       "      <td>24</td>\n",
       "      <td>0</td>\n",
       "    </tr>\n",
       "    <tr>\n",
       "      <th>610</th>\n",
       "      <td>2</td>\n",
       "      <td>175</td>\n",
       "      <td>88</td>\n",
       "      <td>0</td>\n",
       "      <td>0</td>\n",
       "      <td>22.9</td>\n",
       "      <td>0.326</td>\n",
       "      <td>22</td>\n",
       "      <td>0</td>\n",
       "    </tr>\n",
       "    <tr>\n",
       "      <th>611</th>\n",
       "      <td>3</td>\n",
       "      <td>121</td>\n",
       "      <td>52</td>\n",
       "      <td>0</td>\n",
       "      <td>0</td>\n",
       "      <td>36.0</td>\n",
       "      <td>0.127</td>\n",
       "      <td>25</td>\n",
       "      <td>1</td>\n",
       "    </tr>\n",
       "    <tr>\n",
       "      <th>612</th>\n",
       "      <td>7</td>\n",
       "      <td>136</td>\n",
       "      <td>74</td>\n",
       "      <td>26</td>\n",
       "      <td>135</td>\n",
       "      <td>26.0</td>\n",
       "      <td>0.647</td>\n",
       "      <td>51</td>\n",
       "      <td>0</td>\n",
       "    </tr>\n",
       "    <tr>\n",
       "      <th>613</th>\n",
       "      <td>4</td>\n",
       "      <td>156</td>\n",
       "      <td>75</td>\n",
       "      <td>0</td>\n",
       "      <td>0</td>\n",
       "      <td>48.3</td>\n",
       "      <td>0.238</td>\n",
       "      <td>32</td>\n",
       "      <td>1</td>\n",
       "    </tr>\n",
       "  </tbody>\n",
       "</table>\n",
       "<p>614 rows × 9 columns</p>\n",
       "</div>"
      ],
      "text/plain": [
       "     Pregnancies  Glucose  BloodPressure  SkinThickness  Insulin   BMI  \\\n",
       "0              5       77             82             41       42  35.8   \n",
       "1              9      122             56              0        0  33.3   \n",
       "2              0      113             76              0        0  33.3   \n",
       "3              1      139             62             41      480  40.7   \n",
       "4             10      161             68             23      132  25.5   \n",
       "..           ...      ...            ...            ...      ...   ...   \n",
       "609            4      114             64              0        0  28.9   \n",
       "610            2      175             88              0        0  22.9   \n",
       "611            3      121             52              0        0  36.0   \n",
       "612            7      136             74             26      135  26.0   \n",
       "613            4      156             75              0        0  48.3   \n",
       "\n",
       "     DiabetesPedigreeFunction  Age  Outcome  \n",
       "0                       0.156   35        0  \n",
       "1                       1.114   33        1  \n",
       "2                       0.278   23        1  \n",
       "3                       0.536   21        0  \n",
       "4                       0.326   47        1  \n",
       "..                        ...  ...      ...  \n",
       "609                     0.126   24        0  \n",
       "610                     0.326   22        0  \n",
       "611                     0.127   25        1  \n",
       "612                     0.647   51        0  \n",
       "613                     0.238   32        1  \n",
       "\n",
       "[614 rows x 9 columns]"
      ]
     },
     "execution_count": 13,
     "metadata": {},
     "output_type": "execute_result"
    }
   ],
   "source": [
    "data"
   ]
  },
  {
   "cell_type": "markdown",
   "id": "dce0ffa6",
   "metadata": {},
   "source": [
    "# Display the Glucose level and the Age for the samples having the index ranging from 45 to 60."
   ]
  },
  {
   "cell_type": "code",
   "execution_count": 14,
   "id": "3423e4a6",
   "metadata": {},
   "outputs": [
    {
     "name": "stdout",
     "output_type": "stream",
     "text": [
      "Pregnancies\n",
      "Glucose\n",
      "BloodPressure\n",
      "SkinThickness\n",
      "Insulin\n",
      "BMI\n",
      "DiabetesPedigreeFunction\n",
      "Age\n",
      "Outcome\n"
     ]
    }
   ],
   "source": [
    "for col in data.columns:\n",
    "    print(col)"
   ]
  },
  {
   "cell_type": "code",
   "execution_count": 17,
   "id": "222862f4",
   "metadata": {},
   "outputs": [],
   "source": [
    "Glucose=[]\n",
    "Glucose=data['Glucose']"
   ]
  },
  {
   "cell_type": "code",
   "execution_count": 20,
   "id": "46d641ab",
   "metadata": {},
   "outputs": [
    {
     "data": {
      "text/plain": [
       "45    137\n",
       "46    145\n",
       "47    113\n",
       "48     96\n",
       "49    131\n",
       "50    113\n",
       "51    120\n",
       "52     95\n",
       "53    155\n",
       "54    100\n",
       "55    184\n",
       "56     90\n",
       "57    142\n",
       "58    125\n",
       "59    101\n",
       "Name: Glucose, dtype: int64"
      ]
     },
     "execution_count": 20,
     "metadata": {},
     "output_type": "execute_result"
    }
   ],
   "source": [
    "Glucose[45:60]"
   ]
  },
  {
   "cell_type": "markdown",
   "id": "d76025c1",
   "metadata": {},
   "source": [
    "# How many patients in the data are having the blood pressure level above 120?\n"
   ]
  },
  {
   "cell_type": "code",
   "execution_count": 22,
   "id": "7a41b17a",
   "metadata": {},
   "outputs": [],
   "source": [
    "BloodPressure=[]\n",
    "BloodPressure=data['BloodPressure']"
   ]
  },
  {
   "cell_type": "code",
   "execution_count": 24,
   "id": "2a206b92",
   "metadata": {},
   "outputs": [
    {
     "data": {
      "text/plain": [
       "0      False\n",
       "1      False\n",
       "2      False\n",
       "3      False\n",
       "4      False\n",
       "       ...  \n",
       "609    False\n",
       "610    False\n",
       "611    False\n",
       "612    False\n",
       "613    False\n",
       "Name: BloodPressure, Length: 614, dtype: bool"
      ]
     },
     "execution_count": 24,
     "metadata": {},
     "output_type": "execute_result"
    }
   ],
   "source": [
    "BloodPressure>120"
   ]
  },
  {
   "cell_type": "code",
   "execution_count": 25,
   "id": "2d2cbd9d",
   "metadata": {},
   "outputs": [
    {
     "data": {
      "text/plain": [
       "0      82\n",
       "1      56\n",
       "2      76\n",
       "3      62\n",
       "4      68\n",
       "       ..\n",
       "609    64\n",
       "610    88\n",
       "611    52\n",
       "612    74\n",
       "613    75\n",
       "Name: BloodPressure, Length: 614, dtype: int64"
      ]
     },
     "execution_count": 25,
     "metadata": {},
     "output_type": "execute_result"
    }
   ],
   "source": [
    "BloodPressure"
   ]
  },
  {
   "cell_type": "markdown",
   "id": "8d2e4c36",
   "metadata": {},
   "source": [
    "# Select the rows the age is between 24 and 29 (inclusive)"
   ]
  },
  {
   "cell_type": "code",
   "execution_count": 26,
   "id": "f80e5c0e",
   "metadata": {},
   "outputs": [],
   "source": [
    "Age=[]\n",
    "Age=data['Age']"
   ]
  },
  {
   "cell_type": "code",
   "execution_count": 28,
   "id": "1f54d93d",
   "metadata": {},
   "outputs": [
    {
     "data": {
      "text/plain": [
       "5      25\n",
       "7      28\n",
       "11     26\n",
       "23     28\n",
       "34     27\n",
       "       ..\n",
       "596    25\n",
       "597    28\n",
       "602    25\n",
       "604    25\n",
       "611    25\n",
       "Name: Age, Length: 121, dtype: int64"
      ]
     },
     "execution_count": 28,
     "metadata": {},
     "output_type": "execute_result"
    }
   ],
   "source": [
    "Age[(Age>24)&(Age<29)]"
   ]
  },
  {
   "cell_type": "markdown",
   "id": "b45fb9cd",
   "metadata": {},
   "source": [
    "# Find the minimum and maximum value of insulin level in the data."
   ]
  },
  {
   "cell_type": "code",
   "execution_count": 29,
   "id": "922ccb71",
   "metadata": {},
   "outputs": [],
   "source": [
    "Insulin=[]\n",
    "Insulin=data['Insulin']"
   ]
  },
  {
   "cell_type": "code",
   "execution_count": 30,
   "id": "2196855e",
   "metadata": {},
   "outputs": [
    {
     "data": {
      "text/plain": [
       "0"
      ]
     },
     "execution_count": 30,
     "metadata": {},
     "output_type": "execute_result"
    }
   ],
   "source": [
    "Insulin.min()"
   ]
  },
  {
   "cell_type": "code",
   "execution_count": 31,
   "id": "6fa9e38d",
   "metadata": {},
   "outputs": [
    {
     "data": {
      "text/plain": [
       "846"
      ]
     },
     "execution_count": 31,
     "metadata": {},
     "output_type": "execute_result"
    }
   ],
   "source": [
    "Insulin.max()"
   ]
  },
  {
   "cell_type": "markdown",
   "id": "4eb66085",
   "metadata": {},
   "source": [
    "# Create a histogram of \"Age\"."
   ]
  },
  {
   "cell_type": "code",
   "execution_count": 34,
   "id": "588cccb3",
   "metadata": {},
   "outputs": [
    {
     "data": {
      "text/plain": [
       "(array([  0.,  50., 100., 150., 200., 250., 300.]),\n",
       " [Text(0, 0, ''),\n",
       "  Text(0, 0, ''),\n",
       "  Text(0, 0, ''),\n",
       "  Text(0, 0, ''),\n",
       "  Text(0, 0, ''),\n",
       "  Text(0, 0, ''),\n",
       "  Text(0, 0, '')])"
      ]
     },
     "execution_count": 34,
     "metadata": {},
     "output_type": "execute_result"
    },
    {
     "data": {
      "image/png": "[encoded data removed]",
      "text/plain": [
       "<Figure size 432x288 with 1 Axes>"
      ]
     },
     "metadata": {
      "needs_background": "light"
     },
     "output_type": "display_data"
    }
   ],
   "source": [
    "plt.figure()\n",
    "plt.hist(data['Age'],rwidth=0.9)\n",
    "plt.title('Age',fontsize=16)\n",
    "plt.xticks()\n",
    "plt.yticks()"
   ]
  },
  {
   "cell_type": "code",
   "execution_count": null,
   "id": "414ae054",
   "metadata": {},
   "outputs": [],
   "source": []
  }
 ],
 "metadata": {
  "kernelspec": {
   "display_name": "Python 3",
   "language": "python",
   "name": "python3"
  },
  "language_info": {
   "codemirror_mode": {
    "name": "ipython",
    "version": 3
   },
   "file_extension": ".py",
   "mimetype": "text/x-python",
   "name": "python",
   "nbconvert_exporter": "python",
   "pygments_lexer": "ipython3",
   "version": "3.8.8"
  }
 },
 "nbformat": 4,
 "nbformat_minor": 5
}
